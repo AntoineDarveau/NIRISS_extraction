{
 "cells": [
  {
   "cell_type": "code",
   "execution_count": 1,
   "metadata": {
    "collapsed": true
   },
   "outputs": [],
   "source": [
    "from astropy.io import fits #astropy modules for FITS IO\n",
    "import numpy as np #numpy gives us better array management \n",
    "import matplotlib  #ploting\n",
    "matplotlib.use(\"Agg\")  #some hack to stop the bouncing python icon when plotting\n",
    "import matplotlib.pyplot as plt\n",
    "#next line is to show plots inline with jupyter\n",
    "#%matplotlib inline \n",
    "from matplotlib.colors import LogNorm #for better display of FITS images"
   ]
  },
  {
   "cell_type": "code",
   "execution_count": 2,
   "metadata": {
    "collapsed": true
   },
   "outputs": [],
   "source": [
    "%matplotlib inline"
   ]
  },
  {
   "cell_type": "code",
   "execution_count": 4,
   "metadata": {
    "collapsed": true
   },
   "outputs": [],
   "source": [
    "filename=\"NIST718-700-CLR-4-6004145816_1_496_SE_2016-01-04T15h04m32.fits\"\n",
    "hdulist = fits.open(filename) #open the FITS file"
   ]
  },
  {
   "cell_type": "code",
   "execution_count": 5,
   "metadata": {
    "collapsed": false
   },
   "outputs": [
    {
     "name": "stdout",
     "output_type": "stream",
     "text": [
      "Filename: NIST718-700-CLR-4-6004145816_1_496_SE_2016-01-04T15h04m32.fits\n",
      "No.    Name         Type      Cards   Dimensions   Format\n",
      "0    PRIMARY     PrimaryHDU     438   (256, 2048, 5)   int16 (rescales to uint16)   \n",
      "1    ENG         BinTableHDU     15   28888R x 3C   [30A, 30A, 30A]   \n"
     ]
    }
   ],
   "source": [
    "hdulist.info() #look at contents"
   ]
  },
  {
   "cell_type": "code",
   "execution_count": 6,
   "metadata": {
    "collapsed": true
   },
   "outputs": [],
   "source": [
    "scidata = hdulist[0].data #extract the Image"
   ]
  },
  {
   "cell_type": "code",
   "execution_count": 7,
   "metadata": {
    "collapsed": false
   },
   "outputs": [
    {
     "name": "stdout",
     "output_type": "stream",
     "text": [
      "(5, 2048, 256)\n"
     ]
    }
   ],
   "source": [
    "print(scidata.shape) #print the shape info."
   ]
  },
  {
   "cell_type": "code",
   "execution_count": null,
   "metadata": {
    "collapsed": true
   },
   "outputs": [],
   "source": []
  }
 ],
 "metadata": {
  "kernelspec": {
   "display_name": "Python 3",
   "language": "python",
   "name": "python3"
  },
  "language_info": {
   "codemirror_mode": {
    "name": "ipython",
    "version": 3
   },
   "file_extension": ".py",
   "mimetype": "text/x-python",
   "name": "python",
   "nbconvert_exporter": "python",
   "pygments_lexer": "ipython3",
   "version": "3.4.3"
  }
 },
 "nbformat": 4,
 "nbformat_minor": 0
}
