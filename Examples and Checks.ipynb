{
 "cells": [
  {
   "cell_type": "markdown",
   "metadata": {},
   "source": [
    "## Load in modules"
   ]
  },
  {
   "cell_type": "code",
   "execution_count": 1,
   "metadata": {
    "collapsed": false
   },
   "outputs": [],
   "source": [
    "import jwstniriss as jw\n",
    "import numpy as np #numpy gives us better array management "
   ]
  },
  {
   "cell_type": "markdown",
   "metadata": {},
   "source": [
    "## Load plotting modules"
   ]
  },
  {
   "cell_type": "code",
   "execution_count": 2,
   "metadata": {
    "collapsed": false
   },
   "outputs": [],
   "source": [
    "import matplotlib  #ploting\n",
    "#matplotlib.use(\"Agg\")  #some hack to stop the bouncing python icon when plotting\n",
    "import matplotlib.pyplot as plt\n",
    "#next line is to show plots inline with jupyter\n",
    "#%matplotlib inline \n",
    "from matplotlib.colors import LogNorm #for better display of FITS images"
   ]
  },
  {
   "cell_type": "markdown",
   "metadata": {},
   "source": [
    "## Enable Inline plotting"
   ]
  },
  {
   "cell_type": "code",
   "execution_count": 3,
   "metadata": {
    "collapsed": true
   },
   "outputs": [],
   "source": [
    "%matplotlib inline"
   ]
  },
  {
   "cell_type": "markdown",
   "metadata": {},
   "source": [
    "## Show documentation for each routines"
   ]
  },
  {
   "cell_type": "code",
   "execution_count": 4,
   "metadata": {
    "collapsed": false
   },
   "outputs": [
    {
     "data": {
      "text/plain": [
       "'Usage scidata = datacube(filename)'"
      ]
     },
     "execution_count": 4,
     "metadata": {},
     "output_type": "execute_result"
    }
   ],
   "source": [
    "jw.read_datacube.__doc__"
   ]
  },
  {
   "cell_type": "code",
   "execution_count": 5,
   "metadata": {
    "collapsed": false
   },
   "outputs": [
    {
     "data": {
      "text/plain": [
       "'Usage: zpt,slope,image=r2s(scidata)'"
      ]
     },
     "execution_count": 5,
     "metadata": {},
     "output_type": "execute_result"
    }
   ],
   "source": [
    "jw.r2s.__doc__"
   ]
  },
  {
   "cell_type": "code",
   "execution_count": 6,
   "metadata": {
    "collapsed": false
   },
   "outputs": [
    {
     "data": {
      "text/plain": [
       "'flux=jw.apertureflux(scidata,tr,20,0) - Extract Flux using simple Aperture'"
      ]
     },
     "execution_count": 6,
     "metadata": {},
     "output_type": "execute_result"
    }
   ],
   "source": [
    "jw.apertureflux.__doc__"
   ]
  },
  {
   "cell_type": "code",
   "execution_count": 7,
   "metadata": {
    "collapsed": false
   },
   "outputs": [
    {
     "data": {
      "text/plain": [
       "'tr, trpsf = jw.tracespec(image)  - Finds trace of spectral orders'"
      ]
     },
     "execution_count": 7,
     "metadata": {},
     "output_type": "execute_result"
    }
   ],
   "source": [
    "jw.tracespec.__doc__"
   ]
  },
  {
   "cell_type": "markdown",
   "metadata": {},
   "source": [
    "## Read in a datacube"
   ]
  },
  {
   "cell_type": "code",
   "execution_count": 12,
   "metadata": {
    "collapsed": false
   },
   "outputs": [
    {
     "name": "stdout",
     "output_type": "stream",
     "text": [
      "The code is running on  appletoine.sf.umontreal.ca\n",
      "Remote connection on maestria to read datacube\n",
      "***May be infinitely long if you don't have ethernet connection!\n",
      "Connected to maestria\n",
      "Reading datacube...\n",
      "datacube shape :  (963, 256, 2048)\n",
      "Connections are now closed.\n"
     ]
    }
   ],
   "source": [
    "# From a remote server :\n",
    "import paramiko\n",
    "import sys\n",
    "import os\n",
    "import getpass\n",
    "import socket\n",
    "\n",
    "machine = socket.gethostname()\n",
    "print('The code is running on ', machine)\n",
    " \n",
    "if 'maestria' in machine:\n",
    "    print('Data cube is located on machine -> local read in')\n",
    "    scidata=jw.read_datacube(\"/data/NIRISS/SOSS/wasp-69/soss_simulated_data/wasp-69.fits\")\n",
    "else :\n",
    "    print('Remote connection on maestria to read datacube')\n",
    "    print('***May be infinitely long if you don\\'t have ethernet connection!')\n",
    "    ssh = paramiko.SSHClient()\n",
    "    ssh.set_missing_host_key_policy(paramiko.AutoAddPolicy())\n",
    "\n",
    "    # enterUser = input('Enter username for remote connection to maestria : ')\n",
    "    # enterPswd = getpass.getpass('Password:')\n",
    "    # ssh.connect('maestria.astro.umontreal.ca',port=5822,\n",
    "#                     username=enterUser,password = enterPswd)\n",
    "    ssh.connect('maestria.astro.umontreal.ca',port=5822,username='adb',password = 'Snow3478')\n",
    "    # del enterPswd\n",
    "    # del enterUser\n",
    "    print('Connected to maestria')\n",
    "\n",
    "\n",
    "    sftp_client = ssh.open_sftp()\n",
    "    remote_file = sftp_client.open(\n",
    "        '/data/NIRISS/SOSS/wasp-69/soss_simulated_data/wasp-69.fits')\n",
    "\n",
    "    print('Reading datacube...')\n",
    "    scidata=jw.read_datacube(remote_file)\n",
    "    sftp_client.close()\n",
    "    ssh.close()\n",
    "    print('Connections are now closed.')\n",
    "\n",
    "# Local data\n",
    "\n",
    "# scidata=jw.read_datacube(\"samples/cube-700-CLR.fits\")"
   ]
  },
  {
   "cell_type": "markdown",
   "metadata": {},
   "source": [
    "## Show Raw data"
   ]
  },
  {
   "cell_type": "code",
   "execution_count": null,
   "metadata": {
    "collapsed": false
   },
   "outputs": [],
   "source": [
    "plt.figure(figsize=(20,4)) #adjust size of figure\n",
    "imgplot = plt.imshow(np.transpose(scidata[4,:,:]),norm=LogNorm())\n",
    "plt.axis((0,image.shape[0],0,image.shape[1]))\n",
    "plt.show()"
   ]
  },
  {
   "cell_type": "markdown",
   "metadata": {},
   "source": [
    "## Fit robust line to ramps to produce image"
   ]
  },
  {
   "cell_type": "code",
   "execution_count": null,
   "metadata": {
    "collapsed": false
   },
   "outputs": [],
   "source": [
    "zpt,slope,image = jw.r2s(scidata)\n",
    "\n",
    "slope.shape"
   ]
  },
  {
   "cell_type": "markdown",
   "metadata": {},
   "source": [
    "## Display background / bias "
   ]
  },
  {
   "cell_type": "code",
   "execution_count": null,
   "metadata": {
    "collapsed": false
   },
   "outputs": [],
   "source": [
    "plt.figure(figsize=(20,4)) #adjust size of figure\n",
    "imgplot = plt.imshow(np.transpose(zpt),norm=LogNorm())\n",
    "plt.axis((0,image.shape[0],0,image.shape[1]))\n",
    "plt.show()"
   ]
  },
  {
   "cell_type": "markdown",
   "metadata": {},
   "source": [
    "## Display corrected Image"
   ]
  },
  {
   "cell_type": "code",
   "execution_count": null,
   "metadata": {
    "collapsed": false
   },
   "outputs": [],
   "source": [
    "plt.figure(figsize=(20,4)) #adjust size of figure\n",
    "imgplot = plt.imshow(np.transpose(image),norm=LogNorm())\n",
    "plt.axis((0,image.shape[0],0,image.shape[1]))\n",
    "plt.show()"
   ]
  },
  {
   "cell_type": "markdown",
   "metadata": {},
   "source": [
    "## Extract Trace for n=1"
   ]
  },
  {
   "cell_type": "code",
   "execution_count": null,
   "metadata": {
    "collapsed": false
   },
   "outputs": [],
   "source": [
    "tr, trpsf = jw.tracespec(image) #run the trace program to find the n=1 spectrum\n",
    "#tr contains the trace for each order, trpsf contains the model parameters from the PSF fit."
   ]
  },
  {
   "cell_type": "code",
   "execution_count": null,
   "metadata": {
    "collapsed": false
   },
   "outputs": [],
   "source": [
    "plt.figure(figsize=(20,4)) #adjust size of figure\n",
    "imgplot = plt.imshow(np.transpose(image),norm=LogNorm()) #added log stretch to the plot\n",
    "#imgplot = plt.colorbar() #add colour bar\n",
    "plt.plot(tr[:,0],c='b') #overlay trace for n=1\n",
    "# plt.plot(tr[:,1],c='b') #overlay trace for n=2\n",
    "plt.xlabel('Column (pixel)') #x-label\n",
    "plt.ylabel('Row (pixel)') #y-label\n",
    "x1,x2,y1,y2 = plt.axis() \n",
    "plt.axis((0,image.shape[0],0,image.shape[1]))\n",
    "plt.show()"
   ]
  },
  {
   "cell_type": "markdown",
   "metadata": {},
   "source": [
    "## Extract Trace With Aperture"
   ]
  },
  {
   "cell_type": "code",
   "execution_count": null,
   "metadata": {
    "collapsed": false
   },
   "outputs": [],
   "source": [
    "flux=jw.apertureflux(image,tr,20,0)  #extract the flux along the trae using a simple aperture"
   ]
  },
  {
   "cell_type": "code",
   "execution_count": null,
   "metadata": {
    "collapsed": false
   },
   "outputs": [],
   "source": [
    "plt.figure(figsize=(16,4)) #adjust size of figure\n",
    "plt.plot(np.sum(image,axis=1),label='Column Sum') #Plot the sum of each column\n",
    "plt.plot(flux,c='r',label='Aperture Sum') #Plot the sum of each column\n",
    "plt.xlabel('Column (pixel)') #x-label\n",
    "plt.ylabel('Counts') #y-label\n",
    "x1,x2,y1,y2 = plt.axis() \n",
    "x1=0\n",
    "x2=image.shape[0]\n",
    "y1=0\n",
    "plt.axis((x1,x2,y1,y2))\n",
    "plt.legend()\n",
    "plt.show()"
   ]
  },
  {
   "cell_type": "code",
   "execution_count": null,
   "metadata": {
    "collapsed": true
   },
   "outputs": [],
   "source": []
  },
  {
   "cell_type": "code",
   "execution_count": null,
   "metadata": {
    "collapsed": true
   },
   "outputs": [],
   "source": []
  }
 ],
 "metadata": {
  "anaconda-cloud": {},
  "kernelspec": {
   "display_name": "Python [default]",
   "language": "python",
   "name": "python3"
  },
  "language_info": {
   "codemirror_mode": {
    "name": "ipython",
    "version": 3
   },
   "file_extension": ".py",
   "mimetype": "text/x-python",
   "name": "python",
   "nbconvert_exporter": "python",
   "pygments_lexer": "ipython3",
   "version": "3.5.2"
  }
 },
 "nbformat": 4,
 "nbformat_minor": 0
}
